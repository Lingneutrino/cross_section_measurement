{
 "cells": [
  {
   "cell_type": "code",
   "execution_count": 114,
   "metadata": {},
   "outputs": [],
   "source": [
    "# import libraries\n",
    "import os\n",
    "import numpy as np\n",
    "import pandas as pd\n",
    "import matplotlib.pyplot as plt\n",
    "%matplotlib inline\n",
    "import scipy\n",
    "from scipy import interpolate\n",
    "import math\n",
    "import xlrd\n",
    "import pylab as pl\n",
    "from scipy.integrate import tplquad,dblquad,quad\n",
    "from scipy.interpolate import interp1d\n",
    "from scipy.interpolate import UnivariateSpline"
   ]
  },
  {
   "cell_type": "code",
   "execution_count": 181,
   "metadata": {},
   "outputs": [
    {
     "name": "stdout",
     "output_type": "stream",
     "text": [
      "['.ipynb_checkpoints', 'Al_na.xlsx', 'In_n2n.xlsx', 'In_np.xlsx', 'Ni_np.xlsx', 'Y_n2n.xlsx', 'Y_n3n.xlsx', 'Zr_n2n.xlsx', 'Zr_n3n.xlsx']\n"
     ]
    },
    {
     "data": {
      "text/plain": [
       "9"
      ]
     },
     "execution_count": 181,
     "metadata": {},
     "output_type": "execute_result"
    }
   ],
   "source": [
    "#extract data describing the shape of flux\n",
    "os.chdir(r'/home/cailing/cross_section_measurement/shape_xs/')\n",
    "phi = pd.read_excel('phi_E.xlsx')\n",
    "energy = phi['E(MeV)']\n",
    "counts = phi['counts']\n",
    "\n",
    "os.chdir(r'/home/cailing/cross_section_measurement/shape_xs/data')\n",
    "filelist = os.listdir(r'/home/cailing/cross_section_measurement/shape_xs/data')\n",
    "print(filelist)\n",
    "\n",
    "length_filelist = len(filelist)\n",
    "normxs = []\n",
    "length_filelist"
   ]
  },
  {
   "cell_type": "code",
   "execution_count": 186,
   "metadata": {},
   "outputs": [
    {
     "name": "stdout",
     "output_type": "stream",
     "text": [
      "0.06452816485039338\n",
      "905.2665857838962\n",
      "9.803737690221416\n",
      "0.32245999311658796\n",
      "0.9913410944182741\n",
      "48.40257300524878\n",
      "0.9031797429032478\n",
      "31.025039302854324\n"
     ]
    }
   ],
   "source": [
    "for i in range (1,length_filelist):\n",
    "    name = filelist[i]\n",
    "    xs = pd.read_excel(open(name, 'rb'))\n",
    "    xs_E = xs['E']\n",
    "    xs_counts = xs['counts']\n",
    "\n",
    "    #pl.plot(energy,counts,label=str(\"phi\"))\n",
    "    #pl.legend(loc=\"upper right\")\n",
    "    #pl.show()\n",
    "    \n",
    "    #select data in the energy range overlapping with that of flux data\n",
    "    phi_select = phi[energy>=max(energy[0],xs_E[0])]\n",
    "    energy_select = np.array(phi_select['E(MeV)'])\n",
    "    counts_select = np.array(phi_select['counts'])\n",
    "    \n",
    "    #interpolation\n",
    "    num = len(energy_select)*100\n",
    "    energynew=np.linspace(energy_select[0],energy_select[len(energy_select)-1],num)\n",
    "    f=interpolate.interp1d(energy_select,counts_select,kind=\"quadratic\")\n",
    "    countsnew=f(energynew)\n",
    " \n",
    "    #plot\n",
    "    #pl.plot(energynew,countsnew,label=str(\"B-quadratic\"))\n",
    "    #pl.legend(loc=\"upper right\")\n",
    "    #pl.show()\n",
    "    \n",
    "    #pl.plot(xs[\"E\"],xs[\"counts\"],label=str(\"origin_xs\"))\n",
    "    #pl.legend(loc=\"upper right\")\n",
    "    #pl.show()\n",
    "    \n",
    "    f1=interpolate.interp1d(xs[\"E\"],xs[\"counts\"],kind=\"quadratic\")\n",
    "    counts_xsnew=f1(energynew)\n",
    "    #pl.plot(energynew,counts_xsnew,label=str(\"B-quadratic\"))\n",
    "    #pl.legend(loc=\"upper right\")\n",
    "    #pl.show()\n",
    "    phi_times_xs_x = energynew\n",
    "    phi_times_xs_y = countsnew*counts_xsnew\n",
    "    f2=UnivariateSpline(energynew,countsnew*counts_xsnew) \n",
    "    inte_phi_xs = f2.integral(energynew[0],energynew[len(energynew)-1])\n",
    "    f3=UnivariateSpline(energynew,countsnew) \n",
    "    inte_phi = f3.integral(energynew[0],energynew[len(energynew)-1])\n",
    "    norm_ave_xs = inte_phi_xs/inte_phi\n",
    "    print(norm_ave_xs)"
   ]
  },
  {
   "cell_type": "code",
   "execution_count": null,
   "metadata": {},
   "outputs": [],
   "source": []
  }
 ],
 "metadata": {
  "kernelspec": {
   "display_name": "Python 3",
   "language": "python",
   "name": "python3"
  },
  "language_info": {
   "codemirror_mode": {
    "name": "ipython",
    "version": 3
   },
   "file_extension": ".py",
   "mimetype": "text/x-python",
   "name": "python",
   "nbconvert_exporter": "python",
   "pygments_lexer": "ipython3",
   "version": "3.6.6"
  }
 },
 "nbformat": 4,
 "nbformat_minor": 2
}
